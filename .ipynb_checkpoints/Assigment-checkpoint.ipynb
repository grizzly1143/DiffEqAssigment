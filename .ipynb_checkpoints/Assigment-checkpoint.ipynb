{
 "cells": [
  {
   "attachments": {},
   "cell_type": "markdown",
   "metadata": {},
   "source": [
    "# Differential Equations Computational Practice\n",
    "___"
   ]
  },
  {
   "cell_type": "code",
   "execution_count": 1,
   "metadata": {},
   "outputs": [],
   "source": [
    "import numpy as num\n",
    "import matplotlib.pyplot as plot\n",
    "import seaborn as sb\n",
    "import math\n",
    "import decimal\n",
    "from ipywidgets import interact"
   ]
  },
  {
   "cell_type": "code",
   "execution_count": 2,
   "metadata": {},
   "outputs": [],
   "source": [
    "sb.set()\n",
    "%config InlineBackend.figure_format='retina'"
   ]
  },
  {
   "cell_type": "code",
   "execution_count": 3,
   "metadata": {},
   "outputs": [],
   "source": [
    "def funct(x, y):\n",
    "    return (1/2)*math.sin(2*x)-y*math.cos(x)"
   ]
  },
  {
   "cell_type": "code",
   "execution_count": 4,
   "metadata": {},
   "outputs": [],
   "source": [
    "def solution(x, x0, y0):\n",
    "    c = (y0-math.sin(x0)+1)/num.exp(-math.sin(x0))\n",
    "    return math.sin(x) - 1 + c*num.exp(-math.sin(x))"
   ]
  },
  {
   "cell_type": "code",
   "execution_count": 5,
   "metadata": {},
   "outputs": [],
   "source": [
    "def exact_sol(x0, y0, x, step):\n",
    "    x_arr = num.arange(x0, x + step, step)\n",
    "    y = []\n",
    "    for x in x_arr:\n",
    "        y.append(solution(x, x0, y0))\n",
    "    return x_arr, y"
   ]
  },
  {
   "cell_type": "code",
   "execution_count": 6,
   "metadata": {},
   "outputs": [],
   "source": [
    "def eulers(x0, y0, x, step):\n",
    "    y = [y0]\n",
    "    x_arr = num.arange(x0, x + step, step)\n",
    "    error = []\n",
    "    exact = []\n",
    "    for x in x_arr:\n",
    "        y_n = y[-1] + step * funct(x, y[-1])\n",
    "        error.append(abs(solution(x, x0, y0) - y[-1]))\n",
    "        y.append(y_n)\n",
    "    return x_arr, y, error"
   ]
  },
  {
   "cell_type": "code",
   "execution_count": 7,
   "metadata": {},
   "outputs": [],
   "source": [
    "def improved_eulers(x0, y0, x, step):\n",
    "    y = [y0]\n",
    "    x_arr = num.arange(x0, x + step, step)\n",
    "    error = []\n",
    "\n",
    "    for x in x_arr:\n",
    "        k1 = funct(x, y[-1])\n",
    "        k2 = funct(x + step, y[-1] + step * k1)\n",
    "        y_n = y[-1] + step * (k1 + k2) / 2\n",
    "        error.append(abs(solution(x, x0, y0) - y[-1]))\n",
    "        y.append(y_n)\n",
    "    return x_arr, y, error"
   ]
  },
  {
   "cell_type": "code",
   "execution_count": 8,
   "metadata": {},
   "outputs": [],
   "source": [
    "def runge_kutta(x0, y0, x, step):\n",
    "    y = [y0]\n",
    "    x_arr = num.arange(x0, x + step, step)\n",
    "    error = []\n",
    "    for x in x_arr:\n",
    "        k1 = funct(x, y[-1])\n",
    "        k2 = funct(x + step / 2, y[-1] + step * k1 / 2)\n",
    "        k3 = funct(x + step / 2, y[-1] + step * k2 / 2)\n",
    "        k4 = funct(x + step, y[-1] + step * k3)\n",
    "        y_n = y[-1] + step * (k1 + 2 * k2 + 2 * k3 + k4) / 6\n",
    "        error.append(abs(solution(x, x0, y0) - y[-1]))\n",
    "        y.append(y_n)\n",
    "    return x_arr, y, error"
   ]
  },
  {
   "cell_type": "code",
   "execution_count": 9,
   "metadata": {},
   "outputs": [],
   "source": [
    "def sol_plot(y0, x0, x, step):\n",
    "    x_arr, y = exact_sol(y0, x0, x, step)\n",
    "    plot.figure(figsize=(10, 10))\n",
    "    plot.plot(x_arr, y)\n",
    "    plot.title('Exact solution')\n",
    "    plot.xlabel('x values')\n",
    "    plot.ylabel('y values')\n",
    "    plot.show()"
   ]
  },
  {
   "cell_type": "code",
   "execution_count": 10,
   "metadata": {},
   "outputs": [
    {
     "data": {
      "application/vnd.jupyter.widget-view+json": {
       "model_id": "63f2a0e60c1c4c49bfd8cd7aacb762df",
       "version_major": 2,
       "version_minor": 0
      },
      "text/plain": [
       "interactive(children=(IntSlider(value=1, description='y0', max=11, min=-9), IntSlider(value=0, description='x0…"
      ]
     },
     "metadata": {},
     "output_type": "display_data"
    },
    {
     "data": {
      "text/plain": [
       "<function __main__.sol_plot(y0, x0, x, step)>"
      ]
     },
     "execution_count": 10,
     "metadata": {},
     "output_type": "execute_result"
    }
   ],
   "source": [
    "interact(sol_plot, y0=(-9, 11, 1), x0=(-10, 10, 1), x=(3.2, 8.2, 1.0), step=(0.01, 1, 0.01))"
   ]
  },
  {
   "cell_type": "code",
   "execution_count": 11,
   "metadata": {},
   "outputs": [],
   "source": [
    "def eulers_plot(x0, y0, x, step):\n",
    "    x_arr, y, error = eulers(x0, y0, x, step)\n",
    "    _, y_ex = exact_sol(x0, y0, x, step)\n",
    "    plot.figure(figsize=(10, 10))\n",
    "    plot.plot(x_arr, y_ex, '--', label='Exact')\n",
    "    plot.plot(x_arr, y[:len(x_arr)], label='Euler method')\n",
    "    plot.plot(x_arr, error, 'r', label=\"Error\")\n",
    "    plot.title('Euler method')\n",
    "    plot.xlabel('x values')\n",
    "    plot.ylabel('y values')\n",
    "    plot.legend()\n",
    "    plot.show()"
   ]
  },
  {
   "cell_type": "code",
   "execution_count": 12,
   "metadata": {},
   "outputs": [
    {
     "data": {
      "application/vnd.jupyter.widget-view+json": {
       "model_id": "90cbf30c18134f6388114289e65a86bb",
       "version_major": 2,
       "version_minor": 0
      },
      "text/plain": [
       "interactive(children=(IntSlider(value=0, description='x0', max=10, min=-10), IntSlider(value=1, description='y…"
      ]
     },
     "metadata": {},
     "output_type": "display_data"
    },
    {
     "data": {
      "text/plain": [
       "<function __main__.eulers_plot(x0, y0, x, step)>"
      ]
     },
     "execution_count": 12,
     "metadata": {},
     "output_type": "execute_result"
    }
   ],
   "source": [
    "interact(eulers_plot, y0=(-9, 11, 1), x0=(-10, 10, 1), x=(3.2, 8.2, 1.0), step=(0.01, 1, 0.01))"
   ]
  },
  {
   "cell_type": "code",
   "execution_count": 13,
   "metadata": {},
   "outputs": [],
   "source": [
    "def improved_plot(x0, y0, x, step):\n",
    "    x_arr, y, error = improved_eulers(x0, y0, x, step)\n",
    "    eu_x, eu_y, eu_error = eulers(x0, y0, x, step)\n",
    "    _, y_ex = exact_sol(x0, y0, x, step)\n",
    "    plot.figure(figsize=(10, 10))\n",
    "    plot.plot(x_arr, y_ex, '--', label='Exact')\n",
    "    plot.plot(x_arr, y[:len(x_arr)], label='Improved Euler method')\n",
    "    plot.plot(x_arr, error, 'r', label='Error')\n",
    "    plot.title('Improved Euler method')\n",
    "    plot.xlabel('x values')\n",
    "    plot.ylabel('y values')\n",
    "    plot.legend()\n",
    "    plot.show()"
   ]
  },
  {
   "cell_type": "code",
   "execution_count": 14,
   "metadata": {},
   "outputs": [
    {
     "data": {
      "application/vnd.jupyter.widget-view+json": {
       "model_id": "f659b0d25947462ebee54dff044b6377",
       "version_major": 2,
       "version_minor": 0
      },
      "text/plain": [
       "interactive(children=(IntSlider(value=0, description='x0', max=10, min=-10), IntSlider(value=1, description='y…"
      ]
     },
     "metadata": {},
     "output_type": "display_data"
    },
    {
     "data": {
      "text/plain": [
       "<function __main__.improved_plot(x0, y0, x, step)>"
      ]
     },
     "execution_count": 14,
     "metadata": {},
     "output_type": "execute_result"
    }
   ],
   "source": [
    "interact(improved_plot, y0=(-9, 11, 1), x0=(-10, 10, 1), x=(3.2, 8.2, 1.0), step=(0.01, 1, 0.01))"
   ]
  },
  {
   "cell_type": "code",
   "execution_count": 15,
   "metadata": {},
   "outputs": [],
   "source": [
    "def runge_kutta_plot(x0, y0, x, step):\n",
    "    x_arr, y, error = runge_kutta(x0, y0, x, step)\n",
    "    _, y_ex = exact_sol(x0, y0, x, step)\n",
    "    plot.figure(figsize=(10, 10))\n",
    "    plot.plot(x_arr, y_ex, '--', label='Exact')\n",
    "    plot.plot(x_arr, y[:len(x_arr)], label='Runge_Kutta method')\n",
    "    plot.plot(x_arr, error, 'r', label=\"Error\")\n",
    "    plot.title('Runge_Kutta method')\n",
    "    plot.xlabel('x values')\n",
    "    plot.ylabel('y values')\n",
    "    plot.legend()\n",
    "    plot.show()"
   ]
  },
  {
   "cell_type": "code",
   "execution_count": 16,
   "metadata": {},
   "outputs": [
    {
     "data": {
      "application/vnd.jupyter.widget-view+json": {
       "model_id": "9820610f86e74fca8bfa03b68d24d3bf",
       "version_major": 2,
       "version_minor": 0
      },
      "text/plain": [
       "interactive(children=(IntSlider(value=0, description='x0', max=10, min=-10), IntSlider(value=1, description='y…"
      ]
     },
     "metadata": {},
     "output_type": "display_data"
    },
    {
     "data": {
      "text/plain": [
       "<function __main__.runge_kutta_plot(x0, y0, x, step)>"
      ]
     },
     "execution_count": 16,
     "metadata": {},
     "output_type": "execute_result"
    }
   ],
   "source": [
    "interact(runge_kutta_plot, y0=(-9, 11, 1), x0=(-10, 10, 1), x=(3.2, 8.2, 1.0), step=(0.01, 1, 0.01))"
   ]
  },
  {
   "cell_type": "code",
   "execution_count": 17,
   "metadata": {},
   "outputs": [],
   "source": [
    "def all_methods_plot(x0, y0, x, step):\n",
    "    eu_x, eu_y, eu_error = eulers(x0, y0, x, step)\n",
    "    imp_x, imp_y, imp_error = improved_eulers(x0, y0, x, step)\n",
    "    rk_x, rk_y, rk_error = runge_kutta(x0, y0, x, step)\n",
    "    x_ex, y_ex = exact_sol(x0, y0, x, step)\n",
    "\n",
    "    plot.figure(figsize=(10, 10))\n",
    "    plot.plot(x_ex, y_ex, label='Exact')\n",
    "    plot.plot(eu_x, eu_y[:len(eu_x)], label='Euler')\n",
    "    plot.plot(imp_x, imp_y[:len(imp_x)], label='Improved Euler')\n",
    "    plot.plot(rk_x, rk_y[:len(rk_x)], label='Runge-Kutta')\n",
    "    plot.legend()\n",
    "    plot.title('All methods graph')\n",
    "    plot.xlabel('x values')\n",
    "    plot.ylabel('y values')\n",
    "    plot.show()"
   ]
  },
  {
   "cell_type": "code",
   "execution_count": 18,
   "metadata": {},
   "outputs": [
    {
     "data": {
      "application/vnd.jupyter.widget-view+json": {
       "model_id": "6ba53a08da0f425db85f54a96e1af872",
       "version_major": 2,
       "version_minor": 0
      },
      "text/plain": [
       "interactive(children=(IntSlider(value=0, description='x0', max=10, min=-10), IntSlider(value=1, description='y…"
      ]
     },
     "metadata": {},
     "output_type": "display_data"
    },
    {
     "data": {
      "text/plain": [
       "<function __main__.all_methods_plot(x0, y0, x, step)>"
      ]
     },
     "execution_count": 18,
     "metadata": {},
     "output_type": "execute_result"
    }
   ],
   "source": [
    "interact(all_methods_plot, y0=(-9, 11, 1), x0=(-10, 10, 1), x=(3.2, 8.2, 1.0), step=(0.01, 1, 0.01))"
   ]
  },
  {
   "cell_type": "code",
   "execution_count": 19,
   "metadata": {},
   "outputs": [],
   "source": [
    "def all_local_errors(x0, y0, x, step):\n",
    "    eu_x, eu_y, eu_error = eulers(x0, y0, x, step)\n",
    "    imp_x, imp_y, imp_error = improved_eulers(x0, y0, x, step)\n",
    "    rk_x, rk_y, rk_error = runge_kutta(x0, y0, x, step)\n",
    "    plot.figure(figsize=(10, 10))\n",
    "    plot.plot(eu_x, eu_error, '--', label='Euler method error')\n",
    "    plot.plot(imp_x, imp_error, '--', label='Improved Euler method error')\n",
    "    plot.plot(rk_x, rk_error, '--', label='Runge-Kutta method error')\n",
    "    plot.legend()\n",
    "    plot.title(\"Local errors\")\n",
    "    plot.xlabel('x values')\n",
    "    plot.ylabel('size of error')\n",
    "    plot.show()"
   ]
  },
  {
   "cell_type": "code",
   "execution_count": 20,
   "metadata": {},
   "outputs": [
    {
     "data": {
      "application/vnd.jupyter.widget-view+json": {
       "model_id": "24628248c58d49f1bd57706081d811c7",
       "version_major": 2,
       "version_minor": 0
      },
      "text/plain": [
       "interactive(children=(IntSlider(value=0, description='x0', max=10, min=-10), IntSlider(value=1, description='y…"
      ]
     },
     "metadata": {},
     "output_type": "display_data"
    },
    {
     "data": {
      "text/plain": [
       "<function __main__.all_local_errors(x0, y0, x, step)>"
      ]
     },
     "execution_count": 20,
     "metadata": {},
     "output_type": "execute_result"
    }
   ],
   "source": [
    "interact(all_local_errors, y0=(-9, 11, 1), x0=(-10, 10, 1), x=(3.2, 8.2, 1.0), step=(0.01, 1, 0.01))"
   ]
  },
  {
   "cell_type": "code",
   "execution_count": 21,
   "metadata": {},
   "outputs": [],
   "source": [
    "def global_error(x0, y0, x, step):\n",
    "    n = num.arange(1, int((x - x0) / step) + 1, 1)\n",
    "    eu_gl_e = []\n",
    "    imp_gl_e = []\n",
    "    rk_gl_e = []\n",
    "    for i in n:\n",
    "        ex_x, ex_y = exact_sol(x0, y0, x, (x - x0) / i)\n",
    "        _, eu_y, _ = eulers(x0, y0, x, (x - x0) / i)\n",
    "        _, imp_y, _ = improved_eulers(x0, y0, x, (x - x0) / i)\n",
    "        _, rk_y, _ = runge_kutta(x0, y0, x, (x - x0) / i)\n",
    "        eu_gl_e.append((num.array(ex_y) - num.array(eu_y[:len(ex_y)])).sum())\n",
    "        imp_gl_e.append((num.array(ex_y) - num.array(imp_y[:len(ex_y)])).sum())\n",
    "        rk_gl_e.append((num.array(ex_y) - num.array(rk_y[:len(ex_y)])).sum())\n",
    "    plot.figure(figsize=(10, 10))\n",
    "    plot.plot(n, eu_gl_e, '.-', label='Euler method')\n",
    "    plot.plot(n, imp_gl_e, '.-', label='Improved Euler method ')\n",
    "    plot.plot(n, rk_gl_e, '.-', label='Runge-Kutta method')\n",
    "    plot.title(\"Graph of Global Truncation Errors\")\n",
    "    plot.xlabel('size of n')\n",
    "    plot.ylabel('size of error')\n",
    "    plot.legend()\n",
    "    plot.show()"
   ]
  },
  {
   "cell_type": "code",
   "execution_count": 22,
   "metadata": {},
   "outputs": [
    {
     "data": {
      "application/vnd.jupyter.widget-view+json": {
       "model_id": "9610e1e182aa44608978ec5b73a73ccc",
       "version_major": 2,
       "version_minor": 0
      },
      "text/plain": [
       "interactive(children=(IntSlider(value=0, description='x0', max=10, min=-10), IntSlider(value=1, description='y…"
      ]
     },
     "metadata": {},
     "output_type": "display_data"
    },
    {
     "data": {
      "text/plain": [
       "<function __main__.global_error(x0, y0, x, step)>"
      ]
     },
     "execution_count": 22,
     "metadata": {},
     "output_type": "execute_result"
    }
   ],
   "source": [
    "interact(global_error,y0=(-9, 11, 1), x0=(-10, 10, 1), x=(3.2, 8.2, 1.0), step=(0.01, 1, 0.01))"
   ]
  }
 ],
 "metadata": {
  "kernelspec": {
   "display_name": "Python 3",
   "language": "python",
   "name": "python3"
  },
  "language_info": {
   "codemirror_mode": {
    "name": "ipython",
    "version": 3
   },
   "file_extension": ".py",
   "mimetype": "text/x-python",
   "name": "python",
   "nbconvert_exporter": "python",
   "pygments_lexer": "ipython3",
   "version": "3.5.2"
  }
 },
 "nbformat": 4,
 "nbformat_minor": 2
}
